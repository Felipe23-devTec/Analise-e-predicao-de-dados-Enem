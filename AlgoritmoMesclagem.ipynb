{
 "cells": [
  {
   "cell_type": "code",
   "execution_count": 2,
   "id": "3f756a19",
   "metadata": {},
   "outputs": [],
   "source": [
    "import pandas as pd\n",
    "arquivo1 = 'dadosBeloJardim2019.csv'\n",
    "arquivo2 = 'dadosBeloJardim2020.csv'\n",
    "arquivo3 = 'dadosBeloJardim2021.csv'\n",
    "arquivo4 = 'dadosBeloJardim2022.csv'\n",
    "df1 = pd.read_csv(arquivo1)\n",
    "df2 = pd.read_csv(arquivo2)\n",
    "df3 = pd.read_csv(arquivo3)\n",
    "df4 = pd.read_csv(arquivo4)\n",
    "df_concatenado = pd.concat([df1, df2,df3,df4])\n",
    "\n",
    "arquivo_concatenado = 'dadosMesclados.csv'\n",
    "df_concatenado.to_csv(arquivo_concatenado, index=False)\n",
    "#tabelaBelo = pd.read_csv('dadosMesclados.csv',delimiter=',',encoding='ISO-8859-1')\n",
    "#filtro = (tabelaBelo['TP_PRESENCA_LC'] != 0) || (tabelaBelo['TP_PRESENCA_MT'] != 0)\n",
    "#nova_tabela = tabelaBelo[filtro]"
   ]
  },
  {
   "cell_type": "code",
   "execution_count": 2,
   "id": "e037a60d",
   "metadata": {},
   "outputs": [],
   "source": [
    "import pandas as pd\n",
    "tabelaBelo = pd.read_csv('dadosMesclados.csv',delimiter=',',encoding='ISO-8859-1')\n",
    "filtro = (tabelaBelo['TP_PRESENCA_LC'] == 1) | (tabelaBelo['TP_PRESENCA_MT'] == 1) | (tabelaBelo['TP_PRESENCA_CN'] == 1) | (tabelaBelo['TP_PRESENCA_CH'] == 1)\n",
    "nova_tabela = tabelaBelo[filtro]\n",
    "arquivo_concatenado = 'dadosMescladosTeste.csv'\n",
    "nova_tabela.to_csv(arquivo_concatenado, index=False)"
   ]
  },
  {
   "cell_type": "code",
   "execution_count": null,
   "id": "afb26e67",
   "metadata": {},
   "outputs": [],
   "source": []
  }
 ],
 "metadata": {
  "kernelspec": {
   "display_name": "Python 3 (ipykernel)",
   "language": "python",
   "name": "python3"
  },
  "language_info": {
   "codemirror_mode": {
    "name": "ipython",
    "version": 3
   },
   "file_extension": ".py",
   "mimetype": "text/x-python",
   "name": "python",
   "nbconvert_exporter": "python",
   "pygments_lexer": "ipython3",
   "version": "3.11.0"
  }
 },
 "nbformat": 4,
 "nbformat_minor": 5
}
